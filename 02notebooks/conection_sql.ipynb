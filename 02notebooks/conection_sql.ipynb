{
 "cells": [
  {
   "cell_type": "code",
   "execution_count": 12,
   "metadata": {},
   "outputs": [],
   "source": [
    "import os\n",
    "import psycopg2\n",
    "from dotenv import load_dotenv\n",
    "\n",
    "# Cargar las variables de entorno desde el archivo .env\n",
    "load_dotenv()\n",
    "\n",
    "# Obtener las variables de entorno\n",
    "POSTGRES_USER = os.getenv(\"POSTGRES_USER\")\n",
    "POSTGRES_PASSWORD = os.getenv(\"POSTGRES_PASSWORD\")\n",
    "POSTGRES_HOST = os.getenv(\"POSTGRES_HOST\")\n",
    "POSTGRES_DATABASE = os.getenv(\"POSTGRES_DATABASE\")\n"
   ]
  },
  {
   "cell_type": "code",
   "execution_count": 13,
   "metadata": {},
   "outputs": [],
   "source": [
    "# Conectarse a la base de datos PostgreSQL\n",
    "connection = psycopg2.connect(\n",
    "    user=POSTGRES_USER,\n",
    "    password=POSTGRES_PASSWORD,\n",
    "    host=POSTGRES_HOST,\n",
    "    database=POSTGRES_DATABASE\n",
    ")\n"
   ]
  },
  {
   "cell_type": "code",
   "execution_count": 14,
   "metadata": {},
   "outputs": [],
   "source": [
    "# Crear un cursor\n",
    "cursor = connection.cursor()\n"
   ]
  },
  {
   "cell_type": "code",
   "execution_count": 8,
   "metadata": {},
   "outputs": [],
   "source": [
    "# Ejecutar una consulta\n",
    "cursor.execute(\"SELECT version();\")\n"
   ]
  },
  {
   "cell_type": "code",
   "execution_count": 9,
   "metadata": {},
   "outputs": [
    {
     "name": "stdout",
     "output_type": "stream",
     "text": [
      "You are connected to -  ('PostgreSQL 16.3 on x86_64-pc-linux-gnu, compiled by gcc (Debian 10.2.1-6) 10.2.1 20210110, 64-bit',) \n",
      "\n"
     ]
    }
   ],
   "source": [
    "# Obtener el resultado\n",
    "record = cursor.fetchone()\n",
    "print(\"You are connected to - \", record, \"\\n\")\n"
   ]
  },
  {
   "cell_type": "code",
   "execution_count": 15,
   "metadata": {},
   "outputs": [
    {
     "name": "stdout",
     "output_type": "stream",
     "text": [
      "Database: verceldb\n"
     ]
    }
   ],
   "source": [
    "# Ejecutar una consulta para obtener el nombre de la base de datos\n",
    "cursor.execute(\"SELECT current_database();\")\n",
    "database_name = cursor.fetchone()[0]\n",
    "print(f\"Database: {database_name}\")\n"
   ]
  },
  {
   "cell_type": "code",
   "execution_count": 16,
   "metadata": {},
   "outputs": [
    {
     "name": "stdout",
     "output_type": "stream",
     "text": [
      "Tables:\n",
      "users\n",
      "customers\n",
      "invoices\n",
      "revenue\n"
     ]
    }
   ],
   "source": [
    "# Ejecutar una consulta para obtener todas las tablas\n",
    "cursor.execute(\"\"\"\n",
    "    SELECT table_name \n",
    "    FROM information_schema.tables\n",
    "    WHERE table_schema = 'public';\n",
    "\"\"\")\n",
    "tables = cursor.fetchall()\n",
    "print(\"Tables:\")\n",
    "for table in tables:\n",
    "    print(table[0])\n"
   ]
  },
  {
   "cell_type": "code",
   "execution_count": 19,
   "metadata": {},
   "outputs": [
    {
     "data": {
      "text/html": [
       "<div>\n",
       "<style scoped>\n",
       "    .dataframe tbody tr th:only-of-type {\n",
       "        vertical-align: middle;\n",
       "    }\n",
       "\n",
       "    .dataframe tbody tr th {\n",
       "        vertical-align: top;\n",
       "    }\n",
       "\n",
       "    .dataframe thead th {\n",
       "        text-align: right;\n",
       "    }\n",
       "</style>\n",
       "<table border=\"1\" class=\"dataframe\">\n",
       "  <thead>\n",
       "    <tr style=\"text-align: right;\">\n",
       "      <th></th>\n",
       "      <th>id</th>\n",
       "      <th>customer_id</th>\n",
       "      <th>amount</th>\n",
       "      <th>status</th>\n",
       "      <th>date</th>\n",
       "    </tr>\n",
       "  </thead>\n",
       "  <tbody>\n",
       "    <tr>\n",
       "      <th>0</th>\n",
       "      <td>75047722-cc87-42b8-97ae-988f6215f327</td>\n",
       "      <td>3958dc9e-712f-4377-85e9-fec4b6a6442a</td>\n",
       "      <td>15795</td>\n",
       "      <td>pending</td>\n",
       "      <td>2022-12-06</td>\n",
       "    </tr>\n",
       "    <tr>\n",
       "      <th>1</th>\n",
       "      <td>bce63633-f1f9-42f4-8f04-a9f9f65f2c6d</td>\n",
       "      <td>3958dc9e-742f-4377-85e9-fec4b6a6442a</td>\n",
       "      <td>20348</td>\n",
       "      <td>pending</td>\n",
       "      <td>2022-11-14</td>\n",
       "    </tr>\n",
       "    <tr>\n",
       "      <th>2</th>\n",
       "      <td>bdec9548-e574-4a8a-86ac-6e3dab3ed143</td>\n",
       "      <td>3958dc9e-787f-4377-85e9-fec4b6a6442a</td>\n",
       "      <td>3040</td>\n",
       "      <td>paid</td>\n",
       "      <td>2022-10-29</td>\n",
       "    </tr>\n",
       "    <tr>\n",
       "      <th>3</th>\n",
       "      <td>dcf35614-be0e-4a48-a8e9-f6aa069c0cea</td>\n",
       "      <td>50ca3e18-62cd-11ee-8c99-0242ac120002</td>\n",
       "      <td>44800</td>\n",
       "      <td>paid</td>\n",
       "      <td>2023-09-10</td>\n",
       "    </tr>\n",
       "    <tr>\n",
       "      <th>4</th>\n",
       "      <td>4cd64b5f-daa1-4c28-bb38-717d24e7c1dc</td>\n",
       "      <td>76d65c26-f784-44a2-ac19-586678f7c2f2</td>\n",
       "      <td>34577</td>\n",
       "      <td>pending</td>\n",
       "      <td>2023-08-05</td>\n",
       "    </tr>\n",
       "    <tr>\n",
       "      <th>5</th>\n",
       "      <td>765f5e2a-ba8f-469f-bd61-2934dc5973da</td>\n",
       "      <td>126eed9c-c90c-4ef6-a4a8-fcf7408d3c66</td>\n",
       "      <td>54246</td>\n",
       "      <td>pending</td>\n",
       "      <td>2023-07-16</td>\n",
       "    </tr>\n",
       "    <tr>\n",
       "      <th>6</th>\n",
       "      <td>9d9a1d36-3afc-4201-a631-11ddc548ed1d</td>\n",
       "      <td>d6e15727-9fe1-4961-8c5b-ea44a9bd81aa</td>\n",
       "      <td>666</td>\n",
       "      <td>pending</td>\n",
       "      <td>2023-06-27</td>\n",
       "    </tr>\n",
       "    <tr>\n",
       "      <th>7</th>\n",
       "      <td>b9cdd512-c37a-4e27-9c49-125947cebc58</td>\n",
       "      <td>50ca3e18-62cd-11ee-8c99-0242ac120002</td>\n",
       "      <td>32545</td>\n",
       "      <td>paid</td>\n",
       "      <td>2023-06-09</td>\n",
       "    </tr>\n",
       "    <tr>\n",
       "      <th>8</th>\n",
       "      <td>3bef0873-e8fa-4a07-93c6-057718cc0196</td>\n",
       "      <td>3958dc9e-787f-4377-85e9-fec4b6a6442a</td>\n",
       "      <td>1250</td>\n",
       "      <td>paid</td>\n",
       "      <td>2023-06-17</td>\n",
       "    </tr>\n",
       "    <tr>\n",
       "      <th>9</th>\n",
       "      <td>1b5f8baf-36f4-49b1-b3f8-5ede327d7479</td>\n",
       "      <td>76d65c26-f784-44a2-ac19-586678f7c2f2</td>\n",
       "      <td>8546</td>\n",
       "      <td>paid</td>\n",
       "      <td>2023-06-07</td>\n",
       "    </tr>\n",
       "  </tbody>\n",
       "</table>\n",
       "</div>"
      ],
      "text/plain": [
       "                                     id                           customer_id  \\\n",
       "0  75047722-cc87-42b8-97ae-988f6215f327  3958dc9e-712f-4377-85e9-fec4b6a6442a   \n",
       "1  bce63633-f1f9-42f4-8f04-a9f9f65f2c6d  3958dc9e-742f-4377-85e9-fec4b6a6442a   \n",
       "2  bdec9548-e574-4a8a-86ac-6e3dab3ed143  3958dc9e-787f-4377-85e9-fec4b6a6442a   \n",
       "3  dcf35614-be0e-4a48-a8e9-f6aa069c0cea  50ca3e18-62cd-11ee-8c99-0242ac120002   \n",
       "4  4cd64b5f-daa1-4c28-bb38-717d24e7c1dc  76d65c26-f784-44a2-ac19-586678f7c2f2   \n",
       "5  765f5e2a-ba8f-469f-bd61-2934dc5973da  126eed9c-c90c-4ef6-a4a8-fcf7408d3c66   \n",
       "6  9d9a1d36-3afc-4201-a631-11ddc548ed1d  d6e15727-9fe1-4961-8c5b-ea44a9bd81aa   \n",
       "7  b9cdd512-c37a-4e27-9c49-125947cebc58  50ca3e18-62cd-11ee-8c99-0242ac120002   \n",
       "8  3bef0873-e8fa-4a07-93c6-057718cc0196  3958dc9e-787f-4377-85e9-fec4b6a6442a   \n",
       "9  1b5f8baf-36f4-49b1-b3f8-5ede327d7479  76d65c26-f784-44a2-ac19-586678f7c2f2   \n",
       "\n",
       "   amount   status        date  \n",
       "0   15795  pending  2022-12-06  \n",
       "1   20348  pending  2022-11-14  \n",
       "2    3040     paid  2022-10-29  \n",
       "3   44800     paid  2023-09-10  \n",
       "4   34577  pending  2023-08-05  \n",
       "5   54246  pending  2023-07-16  \n",
       "6     666  pending  2023-06-27  \n",
       "7   32545     paid  2023-06-09  \n",
       "8    1250     paid  2023-06-17  \n",
       "9    8546     paid  2023-06-07  "
      ]
     },
     "execution_count": 19,
     "metadata": {},
     "output_type": "execute_result"
    }
   ],
   "source": [
    "import pandas as pd\n",
    "\n",
    "cursor.execute(\"\"\"\n",
    "    SELECT * FROM invoices LIMIT 10;\n",
    "\"\"\")\n",
    "\n",
    "# Obtener los resultados en un dataframe de pandas\n",
    "df = pd.DataFrame(cursor.fetchall(), columns=[desc[0] for desc in cursor.description])\n",
    "\n",
    "# Mostrar el dataframe\n",
    "df\n"
   ]
  },
  {
   "cell_type": "code",
   "execution_count": 20,
   "metadata": {},
   "outputs": [
    {
     "name": "stdout",
     "output_type": "stream",
     "text": [
      "PostgreSQL connection is closed\n"
     ]
    }
   ],
   "source": [
    "# Cerrar la conexión\n",
    "cursor.close()\n",
    "connection.close()\n",
    "print(\"PostgreSQL connection is closed\")\n"
   ]
  },
  {
   "cell_type": "code",
   "execution_count": 1,
   "metadata": {},
   "outputs": [
    {
     "name": "stdout",
     "output_type": "stream",
     "text": [
      "bad auth : authentication failed, full error: {'ok': 0, 'errmsg': 'bad auth : authentication failed', 'code': 8000, 'codeName': 'AtlasError'}\n"
     ]
    }
   ],
   "source": [
    "from pymongo.mongo_client import MongoClient\n",
    "from pymongo.server_api import ServerApi\n",
    "uri = \"mongodb+srv://jrodriguezm216:<password>@mongonosql.uwro6i8.mongodb.net/?retryWrites=true&w=majority&appName=MongoNoSQL\"\n",
    "# Create a new client and connect to the server\n",
    "client = MongoClient(uri, server_api=ServerApi('1'))\n",
    "# Send a ping to confirm a successful connection\n",
    "try:\n",
    "    client.admin.command('ping')\n",
    "    print(\"Pinged your deployment. You successfully connected to MongoDB!\")\n",
    "except Exception as e:\n",
    "    print(e)\n"
   ]
  },
  {
   "cell_type": "code",
   "execution_count": null,
   "metadata": {},
   "outputs": [],
   "source": []
  }
 ],
 "metadata": {
  "kernelspec": {
   "display_name": "envQHAWAY",
   "language": "python",
   "name": "python3"
  },
  "language_info": {
   "codemirror_mode": {
    "name": "ipython",
    "version": 3
   },
   "file_extension": ".py",
   "mimetype": "text/x-python",
   "name": "python",
   "nbconvert_exporter": "python",
   "pygments_lexer": "ipython3",
   "version": "3.12.3"
  }
 },
 "nbformat": 4,
 "nbformat_minor": 2
}
