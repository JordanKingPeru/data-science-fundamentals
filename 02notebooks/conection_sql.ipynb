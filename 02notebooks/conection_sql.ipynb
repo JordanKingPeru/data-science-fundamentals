{
 "cells": [
  {
   "cell_type": "code",
   "execution_count": 2,
   "metadata": {},
   "outputs": [],
   "source": [
    "import os\n",
    "import psycopg2\n",
    "from dotenv import load_dotenv\n",
    "\n",
    "# Cargar las variables de entorno desde el archivo .env\n",
    "load_dotenv()\n",
    "\n",
    "# Obtener las variables de entorno\n",
    "POSTGRES_USER = os.getenv(\"POSTGRES_USER\")\n",
    "POSTGRES_PASSWORD = os.getenv(\"POSTGRES_PASSWORD\")\n",
    "POSTGRES_HOST = os.getenv(\"POSTGRES_HOST\")\n",
    "POSTGRES_DATABASE = os.getenv(\"POSTGRES_DATABASE\")"
   ]
  },
  {
   "cell_type": "code",
   "execution_count": 3,
   "metadata": {},
   "outputs": [],
   "source": [
    "# Conectarse a la base de datos PostgreSQL\n",
    "connection = psycopg2.connect(\n",
    "    user=POSTGRES_USER,\n",
    "    password=POSTGRES_PASSWORD,\n",
    "    host=POSTGRES_HOST,\n",
    "    database=POSTGRES_DATABASE\n",
    ")"
   ]
  },
  {
   "cell_type": "code",
   "execution_count": 4,
   "metadata": {},
   "outputs": [],
   "source": [
    "# Crear un cursor\n",
    "cursor = connection.cursor()"
   ]
  },
  {
   "cell_type": "code",
   "execution_count": 5,
   "metadata": {},
   "outputs": [],
   "source": [
    "# Ejecutar una consulta\n",
    "cursor.execute(\"SELECT version();\")"
   ]
  },
  {
   "cell_type": "code",
   "execution_count": 6,
   "metadata": {},
   "outputs": [
    {
     "name": "stdout",
     "output_type": "stream",
     "text": [
      "You are connected to -  ('PostgreSQL 16.3 on x86_64-pc-linux-gnu, compiled by gcc (Debian 10.2.1-6) 10.2.1 20210110, 64-bit',) \n",
      "\n"
     ]
    }
   ],
   "source": [
    "# Obtener el resultado\n",
    "record = cursor.fetchone()\n",
    "print(\"You are connected to - \", record, \"\\n\")\n"
   ]
  },
  {
   "cell_type": "code",
   "execution_count": 8,
   "metadata": {},
   "outputs": [
    {
     "name": "stdout",
     "output_type": "stream",
     "text": [
      "Database: ('verceldb',)\n"
     ]
    }
   ],
   "source": [
    "# Ejecutar una consulta para obtener el nombre de la base de datos\n",
    "cursor.execute(\"SELECT current_database();\")\n",
    "database_name = cursor.fetchone()\n",
    "print(f\"Database: {database_name}\")\n"
   ]
  },
  {
   "cell_type": "code",
   "execution_count": 9,
   "metadata": {},
   "outputs": [
    {
     "name": "stdout",
     "output_type": "stream",
     "text": [
      "Tables:\n",
      "users\n",
      "customers\n",
      "invoices\n",
      "revenue\n"
     ]
    }
   ],
   "source": [
    "# Ejecutar una consulta para obtener todas las tablas\n",
    "cursor.execute(\"\"\"\n",
    "    SELECT table_name \n",
    "    FROM information_schema.tables\n",
    "    WHERE table_schema = 'public';\n",
    "\"\"\")\n",
    "tables = cursor.fetchall()\n",
    "print(\"Tables:\")\n",
    "for table in tables:\n",
    "    print(table[0])\n"
   ]
  },
  {
   "cell_type": "code",
   "execution_count": 13,
   "metadata": {},
   "outputs": [
    {
     "data": {
      "text/html": [
       "<div>\n",
       "<style scoped>\n",
       "    .dataframe tbody tr th:only-of-type {\n",
       "        vertical-align: middle;\n",
       "    }\n",
       "\n",
       "    .dataframe tbody tr th {\n",
       "        vertical-align: top;\n",
       "    }\n",
       "\n",
       "    .dataframe thead th {\n",
       "        text-align: right;\n",
       "    }\n",
       "</style>\n",
       "<table border=\"1\" class=\"dataframe\">\n",
       "  <thead>\n",
       "    <tr style=\"text-align: right;\">\n",
       "      <th></th>\n",
       "      <th>status</th>\n",
       "      <th>n</th>\n",
       "      <th>avg_amount</th>\n",
       "    </tr>\n",
       "  </thead>\n",
       "  <tbody>\n",
       "    <tr>\n",
       "      <th>0</th>\n",
       "      <td>pending</td>\n",
       "      <td>6</td>\n",
       "      <td>91172.000000000000</td>\n",
       "    </tr>\n",
       "    <tr>\n",
       "      <th>1</th>\n",
       "      <td>paid</td>\n",
       "      <td>11</td>\n",
       "      <td>18646.909090909091</td>\n",
       "    </tr>\n",
       "  </tbody>\n",
       "</table>\n",
       "</div>"
      ],
      "text/plain": [
       "    status   n          avg_amount\n",
       "0  pending   6  91172.000000000000\n",
       "1     paid  11  18646.909090909091"
      ]
     },
     "execution_count": 13,
     "metadata": {},
     "output_type": "execute_result"
    }
   ],
   "source": [
    "import pandas as pd\n",
    "\n",
    "cursor.execute(\"\"\"\n",
    "    SELECT status, count(*) as n, avg(amount) as avg_amount \n",
    "    FROM invoices \n",
    "    GROUP BY status\n",
    "    LIMIT 10;\n",
    "\"\"\")\n",
    "\n",
    "# Obtener los resultados en un dataframe de pandas\n",
    "df = pd.DataFrame(cursor.fetchall(), columns=[desc[0] for desc in cursor.description])\n",
    "\n",
    "# Mostrar el dataframe\n",
    "df\n"
   ]
  },
  {
   "cell_type": "code",
   "execution_count": 20,
   "metadata": {},
   "outputs": [
    {
     "name": "stdout",
     "output_type": "stream",
     "text": [
      "PostgreSQL connection is closed\n"
     ]
    }
   ],
   "source": [
    "# Cerrar la conexión\n",
    "cursor.close()\n",
    "connection.close()\n",
    "print(\"PostgreSQL connection is closed\")\n"
   ]
  },
  {
   "cell_type": "code",
   "execution_count": 1,
   "metadata": {},
   "outputs": [
    {
     "name": "stdout",
     "output_type": "stream",
     "text": [
      "bad auth : authentication failed, full error: {'ok': 0, 'errmsg': 'bad auth : authentication failed', 'code': 8000, 'codeName': 'AtlasError'}\n"
     ]
    }
   ],
   "source": [
    "from pymongo.mongo_client import MongoClient\n",
    "from pymongo.server_api import ServerApi\n",
    "uri = \"mongodb+srv://jrodriguezm216:<password>@mongonosql.uwro6i8.mongodb.net/?retryWrites=true&w=majority&appName=MongoNoSQL\"\n",
    "# Create a new client and connect to the server\n",
    "client = MongoClient(uri, server_api=ServerApi('1'))\n",
    "# Send a ping to confirm a successful connection\n",
    "try:\n",
    "    client.admin.command('ping')\n",
    "    print(\"Pinged your deployment. You successfully connected to MongoDB!\")\n",
    "except Exception as e:\n",
    "    print(e)\n"
   ]
  },
  {
   "cell_type": "markdown",
   "metadata": {},
   "source": [
    "# Conectarse a una API desde Python"
   ]
  },
  {
   "cell_type": "code",
   "execution_count": 15,
   "metadata": {},
   "outputs": [],
   "source": [
    "import requests\n",
    "import json"
   ]
  },
  {
   "cell_type": "code",
   "execution_count": 22,
   "metadata": {},
   "outputs": [],
   "source": [
    "# URL de la API\n",
    "url = \"http://api.openweathermap.org/data/2.5/weather\"\n",
    "# Parámetros de la solicitud\n",
    "params = {\n",
    "    'q': 'Roma',\n",
    "    'appid': '71556bd8b3d98a9b7b3a851379680936'  # Reemplaza 'your_api_key' con tu clave de API\n",
    "}\n",
    "\n",
    "# Hacer la solicitud GET\n",
    "response = requests.get(url, params=params)\n"
   ]
  },
  {
   "cell_type": "code",
   "execution_count": 20,
   "metadata": {},
   "outputs": [
    {
     "name": "stdout",
     "output_type": "stream",
     "text": [
      "Error en la solicitud: 401\n"
     ]
    }
   ],
   "source": [
    "if response.status_code == 200:\n",
    "    data = response.json()\n",
    "    print(json.dumps(data, indent=4))  # Imprimir la respuesta formateada\n",
    "else:\n",
    "    print(f\"Error en la solicitud: {response.status_code}\")"
   ]
  },
  {
   "cell_type": "code",
   "execution_count": 23,
   "metadata": {},
   "outputs": [
    {
     "name": "stdout",
     "output_type": "stream",
     "text": [
      "Ciudad: Rome\n",
      "Clima: broken clouds\n",
      "Temperatura: 298.79K\n"
     ]
    }
   ],
   "source": [
    "if response.status_code == 200:\n",
    "    data = response.json()\n",
    "    city = data['name']\n",
    "    weather = data['weather'][0]['description']\n",
    "    temperature = data['main']['temp']\n",
    "    print(f\"Ciudad: {city}\")\n",
    "    print(f\"Clima: {weather}\")\n",
    "    print(f\"Temperatura: {temperature}K\")\n",
    "else:\n",
    "    print(f\"Error en la solicitud: {response.status_code}\")\n"
   ]
  },
  {
   "cell_type": "code",
   "execution_count": 24,
   "metadata": {},
   "outputs": [
    {
     "data": {
      "text/plain": [
       "{'coord': {'lon': -75.4557, 'lat': 43.2128},\n",
       " 'weather': [{'id': 803,\n",
       "   'main': 'Clouds',\n",
       "   'description': 'broken clouds',\n",
       "   'icon': '04d'}],\n",
       " 'base': 'stations',\n",
       " 'main': {'temp': 298.79,\n",
       "  'feels_like': 299.26,\n",
       "  'temp_min': 298.12,\n",
       "  'temp_max': 299.23,\n",
       "  'pressure': 1012,\n",
       "  'humidity': 71,\n",
       "  'sea_level': 1012,\n",
       "  'grnd_level': 989},\n",
       " 'visibility': 10000,\n",
       " 'wind': {'speed': 6.69, 'deg': 310},\n",
       " 'clouds': {'all': 75},\n",
       " 'dt': 1719768198,\n",
       " 'sys': {'type': 1,\n",
       "  'id': 5681,\n",
       "  'country': 'US',\n",
       "  'sunrise': 1719739522,\n",
       "  'sunset': 1719794732},\n",
       " 'timezone': -14400,\n",
       " 'id': 5134295,\n",
       " 'name': 'Rome',\n",
       " 'cod': 200}"
      ]
     },
     "execution_count": 24,
     "metadata": {},
     "output_type": "execute_result"
    }
   ],
   "source": [
    "data"
   ]
  },
  {
   "cell_type": "code",
   "execution_count": null,
   "metadata": {},
   "outputs": [],
   "source": []
  }
 ],
 "metadata": {
  "kernelspec": {
   "display_name": "envQHAWAY",
   "language": "python",
   "name": "python3"
  },
  "language_info": {
   "codemirror_mode": {
    "name": "ipython",
    "version": 3
   },
   "file_extension": ".py",
   "mimetype": "text/x-python",
   "name": "python",
   "nbconvert_exporter": "python",
   "pygments_lexer": "ipython3",
   "version": "3.12.4"
  }
 },
 "nbformat": 4,
 "nbformat_minor": 2
}
