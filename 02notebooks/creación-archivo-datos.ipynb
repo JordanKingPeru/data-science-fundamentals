{
 "cells": [
  {
   "cell_type": "markdown",
   "metadata": {},
   "source": [
    "# Trabajo con archivos de datos\n",
    "\n",
    "El notebook incluye ejemplo sobre como trabajar con diferentes tipos de datos en Python"
   ]
  },
  {
   "cell_type": "code",
   "execution_count": 1,
   "metadata": {},
   "outputs": [],
   "source": [
    "# Carga de librerías\n",
    "import json\n",
    "import pandas as pd\n",
    "import csv\n",
    "import fastavro\n",
    "from fastavro.schema import load_schema\n",
    "import os\n",
    "from dotenv import load_dotenv\n",
    "\n",
    "# Cargar las variables de entorno desde el archivo .env\n",
    "load_dotenv()\n",
    "\n",
    "# Set environment variables\n",
    "READ_FILE_PARQUET = os.getenv(\"READ_FILE_PARQUET\")\n",
    "\n",
    "# Set path to the data\n",
    "path_input_json = '../01datos/01inputs/01data.json'\n",
    "path_output_csv = '../01datos/02outputs/01data.csv'\n",
    "path_output_parquet = READ_FILE_PARQUET\n",
    "path_output_avro = '../01datos/02outputs/01data.avro'\n",
    "\n",
    "# Set schema\n",
    "path_schema_avro = '../01datos/01inputs/schema.avsc'"
   ]
  },
  {
   "cell_type": "markdown",
   "metadata": {},
   "source": [
    "## Trabajos con Json"
   ]
  },
  {
   "cell_type": "code",
   "execution_count": 8,
   "metadata": {},
   "outputs": [],
   "source": [
    "data = {\"nombre\": \"John\", \"edad\": '30', \"ciudad\": \"New York\"}\n",
    "\n",
    "with open(path_input_json, 'w') as json_file:\n",
    "    json.dump(data, json_file)"
   ]
  },
  {
   "cell_type": "code",
   "execution_count": 9,
   "metadata": {},
   "outputs": [
    {
     "name": "stdout",
     "output_type": "stream",
     "text": [
      "{'nombre': 'John', 'edad': '30', 'ciudad': 'New York'}\n"
     ]
    }
   ],
   "source": [
    "with open(path_input_json, 'r') as json_file:\n",
    "    data = json.load(json_file)\n",
    "    print(data)\n"
   ]
  },
  {
   "cell_type": "markdown",
   "metadata": {},
   "source": [
    "## Archivos CSV "
   ]
  },
  {
   "cell_type": "code",
   "execution_count": 13,
   "metadata": {},
   "outputs": [],
   "source": [
    "data = [[\"nombre\", \"edad\", \"ciudad\"],\n",
    "        [\"John\", 30, \"New York\"],\n",
    "        [\"Anna\", 25, \"London\"],\n",
    "        [\"Mike\", 35, \"San Francisco\"]]\n",
    "\n",
    "with open(path_output_csv, 'w', newline='') as csv_file:\n",
    "    writer = csv.writer(csv_file)\n",
    "    writer.writerows(data)"
   ]
  },
  {
   "cell_type": "code",
   "execution_count": 15,
   "metadata": {},
   "outputs": [
    {
     "name": "stdout",
     "output_type": "stream",
     "text": [
      "['nombre', 'edad', 'ciudad']\n",
      "['John', '30', 'New York']\n",
      "['Anna', '25', 'London']\n",
      "['Mike', '35', 'San Francisco']\n"
     ]
    }
   ],
   "source": [
    "with open(path_output_csv, 'r') as csv_file:\n",
    "    reader = csv.reader(csv_file)\n",
    "    for row in reader:\n",
    "        print(row)"
   ]
  },
  {
   "cell_type": "code",
   "execution_count": 17,
   "metadata": {},
   "outputs": [
    {
     "data": {
      "text/plain": [
       "pandas.core.frame.DataFrame"
      ]
     },
     "execution_count": 17,
     "metadata": {},
     "output_type": "execute_result"
    }
   ],
   "source": [
    "df = pd.read_csv(path_output_csv)\n",
    "type(df)"
   ]
  },
  {
   "cell_type": "code",
   "execution_count": 18,
   "metadata": {},
   "outputs": [
    {
     "data": {
      "text/html": [
       "<div>\n",
       "<style scoped>\n",
       "    .dataframe tbody tr th:only-of-type {\n",
       "        vertical-align: middle;\n",
       "    }\n",
       "\n",
       "    .dataframe tbody tr th {\n",
       "        vertical-align: top;\n",
       "    }\n",
       "\n",
       "    .dataframe thead th {\n",
       "        text-align: right;\n",
       "    }\n",
       "</style>\n",
       "<table border=\"1\" class=\"dataframe\">\n",
       "  <thead>\n",
       "    <tr style=\"text-align: right;\">\n",
       "      <th></th>\n",
       "      <th>nombre</th>\n",
       "      <th>edad</th>\n",
       "      <th>ciudad</th>\n",
       "    </tr>\n",
       "  </thead>\n",
       "  <tbody>\n",
       "    <tr>\n",
       "      <th>0</th>\n",
       "      <td>John</td>\n",
       "      <td>30</td>\n",
       "      <td>New York</td>\n",
       "    </tr>\n",
       "    <tr>\n",
       "      <th>1</th>\n",
       "      <td>Anna</td>\n",
       "      <td>25</td>\n",
       "      <td>London</td>\n",
       "    </tr>\n",
       "    <tr>\n",
       "      <th>2</th>\n",
       "      <td>Mike</td>\n",
       "      <td>35</td>\n",
       "      <td>San Francisco</td>\n",
       "    </tr>\n",
       "  </tbody>\n",
       "</table>\n",
       "</div>"
      ],
      "text/plain": [
       "  nombre  edad         ciudad\n",
       "0   John    30       New York\n",
       "1   Anna    25         London\n",
       "2   Mike    35  San Francisco"
      ]
     },
     "execution_count": 18,
     "metadata": {},
     "output_type": "execute_result"
    }
   ],
   "source": [
    "df"
   ]
  },
  {
   "cell_type": "code",
   "execution_count": 21,
   "metadata": {},
   "outputs": [],
   "source": [
    "df.to_csv(path_output_csv,index=False)"
   ]
  },
  {
   "cell_type": "markdown",
   "metadata": {},
   "source": [
    "## Parquet"
   ]
  },
  {
   "cell_type": "code",
   "execution_count": 3,
   "metadata": {},
   "outputs": [
    {
     "name": "stdout",
     "output_type": "stream",
     "text": [
      "<class 'pandas.core.frame.DataFrame'>\n",
      "RangeIndex: 3 entries, 0 to 2\n",
      "Data columns (total 3 columns):\n",
      " #   Column  Non-Null Count  Dtype \n",
      "---  ------  --------------  ----- \n",
      " 0   nombre  3 non-null      object\n",
      " 1   edad    3 non-null      int64 \n",
      " 2   ciudad  3 non-null      object\n",
      "dtypes: int64(1), object(2)\n",
      "memory usage: 204.0+ bytes\n"
     ]
    }
   ],
   "source": [
    "data = {\n",
    "    \"nombre\": [\"John\", \"Anna\", \"Mike\"],\n",
    "    \"edad\": [30, 25, 35],\n",
    "    \"ciudad\": [\"New York\", \"London\", \"San Francisco\"]\n",
    "}\n",
    "df = pd.DataFrame(data)\n",
    "df.info()\n",
    "\n",
    "df.to_parquet(path_output_parquet)"
   ]
  },
  {
   "cell_type": "code",
   "execution_count": 4,
   "metadata": {},
   "outputs": [
    {
     "data": {
      "text/html": [
       "<div>\n",
       "<style scoped>\n",
       "    .dataframe tbody tr th:only-of-type {\n",
       "        vertical-align: middle;\n",
       "    }\n",
       "\n",
       "    .dataframe tbody tr th {\n",
       "        vertical-align: top;\n",
       "    }\n",
       "\n",
       "    .dataframe thead th {\n",
       "        text-align: right;\n",
       "    }\n",
       "</style>\n",
       "<table border=\"1\" class=\"dataframe\">\n",
       "  <thead>\n",
       "    <tr style=\"text-align: right;\">\n",
       "      <th></th>\n",
       "      <th>nombre</th>\n",
       "      <th>edad</th>\n",
       "      <th>ciudad</th>\n",
       "    </tr>\n",
       "  </thead>\n",
       "  <tbody>\n",
       "    <tr>\n",
       "      <th>0</th>\n",
       "      <td>John</td>\n",
       "      <td>30</td>\n",
       "      <td>New York</td>\n",
       "    </tr>\n",
       "    <tr>\n",
       "      <th>1</th>\n",
       "      <td>Anna</td>\n",
       "      <td>25</td>\n",
       "      <td>London</td>\n",
       "    </tr>\n",
       "    <tr>\n",
       "      <th>2</th>\n",
       "      <td>Mike</td>\n",
       "      <td>35</td>\n",
       "      <td>San Francisco</td>\n",
       "    </tr>\n",
       "  </tbody>\n",
       "</table>\n",
       "</div>"
      ],
      "text/plain": [
       "  nombre  edad         ciudad\n",
       "0   John    30       New York\n",
       "1   Anna    25         London\n",
       "2   Mike    35  San Francisco"
      ]
     },
     "execution_count": 4,
     "metadata": {},
     "output_type": "execute_result"
    }
   ],
   "source": [
    "pd.read_parquet(path_output_parquet)"
   ]
  },
  {
   "cell_type": "markdown",
   "metadata": {},
   "source": [
    "## Avro + schema"
   ]
  },
  {
   "cell_type": "code",
   "execution_count": 31,
   "metadata": {},
   "outputs": [],
   "source": [
    "schema = load_schema(path_schema_avro)\n",
    "records = [{\"nombre\": \"John\", \"edad\": 30, \"ciudad\": \"New York\"},\n",
    "           {\"nombre\": \"Anna\", \"edad\": 25, \"ciudad\": \"London\"},\n",
    "           {\"nombre\": \"Mike\", \"edad\": 35, \"ciudad\": \"San Francisco\"}]\n",
    "\n",
    "with open(path_output_avro, 'wb') as avro_file:\n",
    "    fastavro.writer(avro_file, schema, records)\n"
   ]
  },
  {
   "cell_type": "code",
   "execution_count": 32,
   "metadata": {},
   "outputs": [
    {
     "name": "stdout",
     "output_type": "stream",
     "text": [
      "{'nombre': 'John', 'edad': 30, 'ciudad': 'New York'}\n",
      "{'nombre': 'Anna', 'edad': 25, 'ciudad': 'London'}\n",
      "{'nombre': 'Mike', 'edad': 35, 'ciudad': 'San Francisco'}\n"
     ]
    }
   ],
   "source": [
    "with open(path_output_avro, 'rb') as avro_file:\n",
    "    reader = fastavro.reader(avro_file)\n",
    "    for record in reader:\n",
    "        print(record)\n"
   ]
  }
 ],
 "metadata": {
  "kernelspec": {
   "display_name": "envDataScience",
   "language": "python",
   "name": "python3"
  },
  "language_info": {
   "codemirror_mode": {
    "name": "ipython",
    "version": 3
   },
   "file_extension": ".py",
   "mimetype": "text/x-python",
   "name": "python",
   "nbconvert_exporter": "python",
   "pygments_lexer": "ipython3",
   "version": "3.12.4"
  }
 },
 "nbformat": 4,
 "nbformat_minor": 2
}
